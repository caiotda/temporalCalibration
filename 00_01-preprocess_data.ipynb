{
 "cells": [
  {
   "cell_type": "markdown",
   "id": "e401729b-a42a-4681-a868-a53a1c764dce",
   "metadata": {},
   "source": [
    "## Preprocess datasets\n",
    "\n",
    "This notebook preprocess the datasets used in this paper.  We perform preprocessing on the following datasets\n",
    "\n",
    "\n",
    "1. Movielens20m\n",
    "2. KuaiRec\n",
    "3. Goodreads\n",
    "\n",
    "\n",
    "The results can be found in the datasets folder"
   ]
  },
  {
   "cell_type": "code",
   "execution_count": null,
   "id": "00037dbe-a13a-4958-8bcb-7d93ad75d42e",
   "metadata": {},
   "outputs": [],
   "source": [
    "import pandas as pd\n"
   ]
  },
  {
   "cell_type": "markdown",
   "id": "623ee6de-64c9-4e72-8f73-11a6c7331e80",
   "metadata": {},
   "source": [
    "## 01 - Preprocessing MovieLens\n",
    "\n",
    "\n",
    "This step is meant for comparison with Steck base paper\n",
    "\n",
    "steps:\n",
    "\n",
    "1. Consider only movies with rating >= 4\n",
    "2. Remove movies with no gender\n",
    "3. Remove movies with less than 10 interactions\n",
    "4. Remove movies without any user rating (this is done by simply doing a inner join between movie and rating df)"
   ]
  },
  {
   "cell_type": "markdown",
   "id": "fb4bf1f2-9065-4b87-9a60-56ca4fe9a8f4",
   "metadata": {},
   "source": [
    "ten interactions and users with less than 190 movies."
   ]
  },
  {
   "cell_type": "code",
   "execution_count": null,
   "id": "e7c75e3c-5fc4-46ce-bc4d-0a1fc939789e",
   "metadata": {},
   "outputs": [],
   "source": [
    "def preprocess_rating_for_sacilotti(ratings, sample_size=3000):\n",
    "    \"\"\"\n",
    "        ins:\n",
    "            ratings: pd.DataFrame\n",
    "        outs:\n",
    "            preprocessed_ratigs: pd.DataFrame\n",
    "\n",
    "        -------------------------------------\n",
    "        Preprocess the ratings df following the procedures suggested in Steck (2018).\n",
    "        The following steps are applied:\n",
    "        1. Consider only movies with rating >= 4\n",
    "        2. Remove movies with less than 10 interactions (we'll consider movies with move than\n",
    "            10 reviews)\n",
    "    \"\"\"\n",
    "    num_interactions = ratings.groupby(\"movieId\").size().reset_index(name=\"size\")\n",
    "    num_movies = ratings.groupby(\"userId\").size().reset_index(name=\"num_movies\")\n",
    "    to_remove = list(num_interactions[num_interactions[\"size\"] <= 10].movieId.values)\n",
    "    df = over_4_df[~over_4_df[\"movieId\"].isin(to_remove)]\n"
   ]
  },
  {
   "cell_type": "code",
   "execution_count": null,
   "id": "3dc0e7d9-9d24-4920-9111-585a9d87037e",
   "metadata": {},
   "outputs": [],
   "source": [
    "def preprocess_rating_df(ratings, sample_size=300_000):\n",
    "    \"\"\"\n",
    "        ins:\n",
    "            ratings: pd.DataFrame\n",
    "        outs:\n",
    "            preprocessed_ratigs: pd.DataFrame\n",
    "\n",
    "        -------------------------------------\n",
    "        Preprocess the ratings df following the procedures suggested in Steck (2018).\n",
    "        The following steps are applied:\n",
    "        1. Consider only movies with rating >= 4\n",
    "        2. Remove movies with less than 10 interactions (we'll consider movies with move than\n",
    "            10 reviews)\n",
    "    \"\"\"\n",
    "\n",
    "    over_4_df = ratings[ratings[\"rating\"] >= 4.0]\n",
    "    num_interactions = over_4_df.groupby(\"movieId\").size().reset_index(name=\"size\")\n",
    "    to_remove = list(num_interactions[num_interactions[\"size\"] <= 10].movieId.values)\n",
    "    df = over_4_df[~over_4_df[\"movieId\"].isin(to_remove)]\n",
    "\n",
    "    if sample_size is not None:\n",
    "        return df.sample(sample_size)\n",
    "    return dfs\n"
   ]
  },
  {
   "cell_type": "code",
   "execution_count": null,
   "id": "5097a53a-ba30-40c1-be69-92537ce736fe",
   "metadata": {},
   "outputs": [],
   "source": [
    "!wget https://files.grouplens.org/datasets/movielens/ml-20m.zip\n",
    "!unzip ml-20m.zip"
   ]
  },
  {
   "cell_type": "code",
   "execution_count": null,
   "id": "a3d53b32-d077-4a46-a730-195833b93b89",
   "metadata": {},
   "outputs": [],
   "source": [
    "!rm ml-20m/links.csv\n",
    "!rm ml-20m/tags.csv\n",
    "!rm ml-20m/genome-scores.csv\n",
    "!rm ml-20m/genome-tags.csv"
   ]
  },
  {
   "cell_type": "code",
   "execution_count": null,
   "id": "aa4baed5-ff54-4622-af18-bda01ef04a5c",
   "metadata": {},
   "outputs": [],
   "source": [
    "movies = pd.read_csv(\"ml-20m/movies.csv\")"
   ]
  },
  {
   "cell_type": "code",
   "execution_count": null,
   "id": "178043e9-027d-4bc6-8ee0-74e86966ce91",
   "metadata": {},
   "outputs": [],
   "source": [
    "movies.head()"
   ]
  },
  {
   "cell_type": "code",
   "execution_count": null,
   "id": "d0cf1757-c72b-44da-8a74-68aa0cc1ab2e",
   "metadata": {},
   "outputs": [],
   "source": [
    "ratings = pd.read_csv(\"ml-20m/ratings.csv\")"
   ]
  },
  {
   "cell_type": "code",
   "execution_count": null,
   "id": "b7e75e91-5559-4609-bb64-cf1ee407281f",
   "metadata": {},
   "outputs": [],
   "source": [
    "ratings"
   ]
  },
  {
   "cell_type": "code",
   "execution_count": null,
   "id": "0198371f-a828-454c-ba5e-6afff2058a35",
   "metadata": {},
   "outputs": [],
   "source": [
    "filtered_ratings = preprocess_rating_df(ratings)"
   ]
  },
  {
   "cell_type": "code",
   "execution_count": null,
   "id": "10315930-99d7-4e0a-bd69-16f0df6ec785",
   "metadata": {},
   "outputs": [],
   "source": [
    "filtered_ratings"
   ]
  },
  {
   "cell_type": "code",
   "execution_count": null,
   "id": "c3aea84f-4126-4d4f-a725-6acd12ebfb36",
   "metadata": {},
   "outputs": [],
   "source": [
    "df = movies.merge(filtered_ratings, on=\"movieId\").drop(columns=[\"title\"])"
   ]
  },
  {
   "cell_type": "code",
   "execution_count": null,
   "id": "c21aae37-fa59-4f96-bc42-ad775059f92d",
   "metadata": {},
   "outputs": [],
   "source": [
    "df"
   ]
  },
  {
   "cell_type": "code",
   "execution_count": null,
   "id": "ad5f13db-f175-4981-a894-b6b70c5a7614",
   "metadata": {},
   "outputs": [],
   "source": [
    "df.to_csv(\"ml20m_filtered_300k_sample.csv\")"
   ]
  },
  {
   "cell_type": "markdown",
   "id": "3d11aef6-722d-4ee8-8f32-e06ff12dde9b",
   "metadata": {},
   "source": [
    "## 02- Preprocessing movielens for comparison with saciloti et al\n"
   ]
  },
  {
   "cell_type": "markdown",
   "id": "700fd0ec-7297-4b09-8338-99629b31a8ff",
   "metadata": {},
   "source": [
    "## 03 - Preprocessing kuairec dataset\n",
    "\n",
    "\n",
    "Downloaded from https://drive.google.com/file/d/1qe5hOSBxzIuxBb1G_Ih5X-O65QElollE/view on 30/10/2024\n",
    "\n",
    "\n",
    "Apparently, the authors of Lin et al 2024 used the small_matrix.csv"
   ]
  },
  {
   "cell_type": "code",
   "execution_count": 4,
   "id": "8b0eedc0-8f50-4346-8269-50c813a0dcbf",
   "metadata": {},
   "outputs": [
    {
     "name": "stdout",
     "output_type": "stream",
     "text": [
      "Archive:  KuaiRec.zip\n",
      "   creating: KuaiRec 2.0/\n",
      "  inflating: KuaiRec 2.0/LICENSE     \n",
      "  inflating: KuaiRec 2.0/Statistics_KuaiRec.ipynb  \n",
      "   creating: KuaiRec 2.0/data/\n",
      "  inflating: KuaiRec 2.0/data/big_matrix.csv  \n",
      "  inflating: KuaiRec 2.0/data/item_categories.csv  \n",
      "  inflating: KuaiRec 2.0/data/item_daily_features.csv  \n",
      "  inflating: KuaiRec 2.0/data/kuairec_caption_category.csv  \n",
      "  inflating: KuaiRec 2.0/data/small_matrix.csv  \n",
      "  inflating: KuaiRec 2.0/data/social_network.csv  \n",
      "  inflating: KuaiRec 2.0/data/user_features.csv  \n",
      "   creating: KuaiRec 2.0/figs/\n",
      "  inflating: KuaiRec 2.0/figs/KuaiRec.png  \n",
      "  inflating: KuaiRec 2.0/figs/colab-badge.svg  \n",
      "  inflating: KuaiRec 2.0/loaddata.py  \n"
     ]
    }
   ],
   "source": [
    "!unzip KuaiRec.zip"
   ]
  },
  {
   "cell_type": "code",
   "execution_count": 9,
   "id": "76552386-0b07-4490-8d62-70761f47e15b",
   "metadata": {},
   "outputs": [],
   "source": [
    "kuairec = pd.read_csv(\"KuaiRec 2.0/data/small_matrix.csv\").dropna(subset=[\"time\", \"timestamp\"])"
   ]
  },
  {
   "cell_type": "code",
   "execution_count": 10,
   "id": "340aa972-3609-4284-9e71-6d98596b4a46",
   "metadata": {},
   "outputs": [
    {
     "data": {
      "text/html": [
       "<div>\n",
       "<style scoped>\n",
       "    .dataframe tbody tr th:only-of-type {\n",
       "        vertical-align: middle;\n",
       "    }\n",
       "\n",
       "    .dataframe tbody tr th {\n",
       "        vertical-align: top;\n",
       "    }\n",
       "\n",
       "    .dataframe thead th {\n",
       "        text-align: right;\n",
       "    }\n",
       "</style>\n",
       "<table border=\"1\" class=\"dataframe\">\n",
       "  <thead>\n",
       "    <tr style=\"text-align: right;\">\n",
       "      <th></th>\n",
       "      <th>user_id</th>\n",
       "      <th>video_id</th>\n",
       "      <th>play_duration</th>\n",
       "      <th>video_duration</th>\n",
       "      <th>time</th>\n",
       "      <th>date</th>\n",
       "      <th>timestamp</th>\n",
       "      <th>watch_ratio</th>\n",
       "    </tr>\n",
       "  </thead>\n",
       "  <tbody>\n",
       "    <tr>\n",
       "      <th>0</th>\n",
       "      <td>14</td>\n",
       "      <td>148</td>\n",
       "      <td>4381</td>\n",
       "      <td>6067</td>\n",
       "      <td>2020-07-05 05:27:48.378</td>\n",
       "      <td>20200705.0</td>\n",
       "      <td>1.593898e+09</td>\n",
       "      <td>0.722103</td>\n",
       "    </tr>\n",
       "    <tr>\n",
       "      <th>1</th>\n",
       "      <td>14</td>\n",
       "      <td>183</td>\n",
       "      <td>11635</td>\n",
       "      <td>6100</td>\n",
       "      <td>2020-07-05 05:28:00.057</td>\n",
       "      <td>20200705.0</td>\n",
       "      <td>1.593898e+09</td>\n",
       "      <td>1.907377</td>\n",
       "    </tr>\n",
       "    <tr>\n",
       "      <th>2</th>\n",
       "      <td>14</td>\n",
       "      <td>3649</td>\n",
       "      <td>22422</td>\n",
       "      <td>10867</td>\n",
       "      <td>2020-07-05 05:29:09.479</td>\n",
       "      <td>20200705.0</td>\n",
       "      <td>1.593898e+09</td>\n",
       "      <td>2.063311</td>\n",
       "    </tr>\n",
       "    <tr>\n",
       "      <th>3</th>\n",
       "      <td>14</td>\n",
       "      <td>5262</td>\n",
       "      <td>4479</td>\n",
       "      <td>7908</td>\n",
       "      <td>2020-07-05 05:30:43.285</td>\n",
       "      <td>20200705.0</td>\n",
       "      <td>1.593898e+09</td>\n",
       "      <td>0.566388</td>\n",
       "    </tr>\n",
       "    <tr>\n",
       "      <th>4</th>\n",
       "      <td>14</td>\n",
       "      <td>8234</td>\n",
       "      <td>4602</td>\n",
       "      <td>11000</td>\n",
       "      <td>2020-07-05 05:35:43.459</td>\n",
       "      <td>20200705.0</td>\n",
       "      <td>1.593899e+09</td>\n",
       "      <td>0.418364</td>\n",
       "    </tr>\n",
       "    <tr>\n",
       "      <th>...</th>\n",
       "      <td>...</td>\n",
       "      <td>...</td>\n",
       "      <td>...</td>\n",
       "      <td>...</td>\n",
       "      <td>...</td>\n",
       "      <td>...</td>\n",
       "      <td>...</td>\n",
       "      <td>...</td>\n",
       "    </tr>\n",
       "    <tr>\n",
       "      <th>4676370</th>\n",
       "      <td>7162</td>\n",
       "      <td>9177</td>\n",
       "      <td>5315</td>\n",
       "      <td>37205</td>\n",
       "      <td>2020-09-01 20:06:35.984</td>\n",
       "      <td>20200901.0</td>\n",
       "      <td>1.598962e+09</td>\n",
       "      <td>0.142857</td>\n",
       "    </tr>\n",
       "    <tr>\n",
       "      <th>4676371</th>\n",
       "      <td>7162</td>\n",
       "      <td>4987</td>\n",
       "      <td>10085</td>\n",
       "      <td>8167</td>\n",
       "      <td>2020-09-02 14:44:51.342</td>\n",
       "      <td>20200902.0</td>\n",
       "      <td>1.599029e+09</td>\n",
       "      <td>1.234848</td>\n",
       "    </tr>\n",
       "    <tr>\n",
       "      <th>4676372</th>\n",
       "      <td>7162</td>\n",
       "      <td>7988</td>\n",
       "      <td>50523</td>\n",
       "      <td>49319</td>\n",
       "      <td>2020-09-03 08:45:01.474</td>\n",
       "      <td>20200903.0</td>\n",
       "      <td>1.599094e+09</td>\n",
       "      <td>1.024412</td>\n",
       "    </tr>\n",
       "    <tr>\n",
       "      <th>4676373</th>\n",
       "      <td>7162</td>\n",
       "      <td>6533</td>\n",
       "      <td>2190</td>\n",
       "      <td>8000</td>\n",
       "      <td>2020-09-04 22:56:32.021</td>\n",
       "      <td>20200904.0</td>\n",
       "      <td>1.599231e+09</td>\n",
       "      <td>0.273750</td>\n",
       "    </tr>\n",
       "    <tr>\n",
       "      <th>4676374</th>\n",
       "      <td>7162</td>\n",
       "      <td>6523</td>\n",
       "      <td>11909</td>\n",
       "      <td>7255</td>\n",
       "      <td>2020-09-05 00:32:09.154</td>\n",
       "      <td>20200905.0</td>\n",
       "      <td>1.599237e+09</td>\n",
       "      <td>1.641489</td>\n",
       "    </tr>\n",
       "  </tbody>\n",
       "</table>\n",
       "<p>4494578 rows × 8 columns</p>\n",
       "</div>"
      ],
      "text/plain": [
       "         user_id  video_id  play_duration  video_duration  \\\n",
       "0             14       148           4381            6067   \n",
       "1             14       183          11635            6100   \n",
       "2             14      3649          22422           10867   \n",
       "3             14      5262           4479            7908   \n",
       "4             14      8234           4602           11000   \n",
       "...          ...       ...            ...             ...   \n",
       "4676370     7162      9177           5315           37205   \n",
       "4676371     7162      4987          10085            8167   \n",
       "4676372     7162      7988          50523           49319   \n",
       "4676373     7162      6533           2190            8000   \n",
       "4676374     7162      6523          11909            7255   \n",
       "\n",
       "                            time        date     timestamp  watch_ratio  \n",
       "0        2020-07-05 05:27:48.378  20200705.0  1.593898e+09     0.722103  \n",
       "1        2020-07-05 05:28:00.057  20200705.0  1.593898e+09     1.907377  \n",
       "2        2020-07-05 05:29:09.479  20200705.0  1.593898e+09     2.063311  \n",
       "3        2020-07-05 05:30:43.285  20200705.0  1.593898e+09     0.566388  \n",
       "4        2020-07-05 05:35:43.459  20200705.0  1.593899e+09     0.418364  \n",
       "...                          ...         ...           ...          ...  \n",
       "4676370  2020-09-01 20:06:35.984  20200901.0  1.598962e+09     0.142857  \n",
       "4676371  2020-09-02 14:44:51.342  20200902.0  1.599029e+09     1.234848  \n",
       "4676372  2020-09-03 08:45:01.474  20200903.0  1.599094e+09     1.024412  \n",
       "4676373  2020-09-04 22:56:32.021  20200904.0  1.599231e+09     0.273750  \n",
       "4676374  2020-09-05 00:32:09.154  20200905.0  1.599237e+09     1.641489  \n",
       "\n",
       "[4494578 rows x 8 columns]"
      ]
     },
     "execution_count": 10,
     "metadata": {},
     "output_type": "execute_result"
    }
   ],
   "source": [
    "kuairec"
   ]
  },
  {
   "cell_type": "code",
   "execution_count": 11,
   "id": "df194a0c-7d48-42df-baff-e653f4b4f170",
   "metadata": {},
   "outputs": [
    {
     "data": {
      "text/plain": [
       "count    4.494578e+06\n",
       "mean     9.113757e-01\n",
       "std      1.356487e+00\n",
       "min      0.000000e+00\n",
       "25%      4.735875e-01\n",
       "50%      7.745146e-01\n",
       "75%      1.124976e+00\n",
       "max      5.715214e+02\n",
       "Name: watch_ratio, dtype: float64"
      ]
     },
     "execution_count": 11,
     "metadata": {},
     "output_type": "execute_result"
    }
   ],
   "source": [
    "kuairec[\"watch_ratio\"].describe()"
   ]
  },
  {
   "cell_type": "markdown",
   "id": "4d80c33a-7007-4acc-9d7d-4b843ab33d84",
   "metadata": {},
   "source": [
    "Notice that watch_ratio can be larger than one. That happens because watch_ratio is defined as (=play_duration/video_duration). So if a user repeatedely sees a video, then this can be larger than 1.\n",
    "\n",
    "In order to compare with Lin et al 2024, we'll label watch_ratio >= 0.9 as positive examples and watch_ratio < 0.9 as negative"
   ]
  },
  {
   "cell_type": "code",
   "execution_count": 12,
   "id": "f35fe291-ada4-4372-a169-3e8287fd2707",
   "metadata": {},
   "outputs": [],
   "source": [
    "kuairec['label'] = kuairec['watch_ratio'].apply(lambda x: 1 if x > 0.9 else 0)"
   ]
  },
  {
   "cell_type": "code",
   "execution_count": 13,
   "id": "92708df7-0047-4a96-80e1-6be61b3504b5",
   "metadata": {},
   "outputs": [],
   "source": [
    "kuairec.to_csv(\"datasets/kuairec_filtered.csv\")"
   ]
  },
  {
   "cell_type": "markdown",
   "id": "f1717f98-1f81-4a62-8294-bb1981b27c5a",
   "metadata": {},
   "source": [
    "## 04 - Preprocessing goodreads"
   ]
  },
  {
   "cell_type": "code",
   "execution_count": null,
   "id": "02fb5dcc-4e3e-4ae8-b884-64f4478eefc9",
   "metadata": {},
   "outputs": [],
   "source": [
    "goodreads = pd.read_json('path_to_file.json.gz', lines=True, compression='gzip')"
   ]
  }
 ],
 "metadata": {
  "kernelspec": {
   "display_name": "Python [conda env:base] *",
   "language": "python",
   "name": "conda-base-py"
  },
  "language_info": {
   "codemirror_mode": {
    "name": "ipython",
    "version": 3
   },
   "file_extension": ".py",
   "mimetype": "text/x-python",
   "name": "python",
   "nbconvert_exporter": "python",
   "pygments_lexer": "ipython3",
   "version": "3.9.19"
  }
 },
 "nbformat": 4,
 "nbformat_minor": 5
}
